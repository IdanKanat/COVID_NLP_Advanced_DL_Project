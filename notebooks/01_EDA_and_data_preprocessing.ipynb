{
  "cells": [],
    {
     "cell_type": "markdown",
     "metadata": {},
     "source": [
      "# Stage 1 – Exploratory Data Analysis (EDA) & Preprocessing\n",
      "\n",
      "This notebook handles the first step of our project: understanding and preparing the dataset.\n",
      "\n",
      "## Outline\n",
      "1. **Load raw dataset**\n",
      "2. **Exploratory Data Analysis (EDA)**\n",
      "3. **Data Cleaning**\n",
      "4. **Train/Validation/Test split**\n",
      "5. **Tokenization**\n",
      "6. **Save processed dataset**\n"
     ]
}

  "metadata": {},
  "nbformat": 4,
  "nbformat_minor": 5
}








create notebooks/01_EDA_and_data_preprocessing.ipynb
