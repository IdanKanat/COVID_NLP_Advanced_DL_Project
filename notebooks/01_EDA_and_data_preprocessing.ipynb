{
  "cells": [],
  "metadata": {},
  "nbformat": 4,
  "nbformat_minor": 5
}








create notebooks/01_EDA_and_data_preprocessing.ipynb
